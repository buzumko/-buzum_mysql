{
 "cells": [
  {
   "cell_type": "code",
   "execution_count": 10,
   "metadata": {},
   "outputs": [
    {
     "name": "stdout",
     "output_type": "stream",
     "text": [
      "1.273302064528599 1.6620391224277693 1\n",
      "2.217753931055591 0.610194153388215\n"
     ]
    }
   ],
   "source": [
    "\n",
    "import numpy as np\n",
    "from scipy.optimize import fsolve, broyden2\n",
    "import math\n",
    "\n",
    "def equations(p):\n",
    "    x, y = p\n",
    "    # Запись системы уравнения вида x+y=2, x-y=0\n",
    "    return (x**2-y**2+3*x*y**3-2*x**2*y**2+2*x-3*y-5, 3*y**3-2*x**2+2*x**3*y-5*x**2*y**2+5)\n",
    "\n",
    "# Численное решение системы уравнений\n",
    "(x, y), info, ier, mesg =  fsolve(equations, (10, 10), full_output=True)\n",
    "print (x, y, ier)\n",
    "(x, y) =  broyden2(equations, (10, 10))\n",
    "print (x, y)\n",
    "# 1.273302064528599 1.6620391224277693 1\n",
    "# 2.217753931055591 0.610194153388215\n"
   ]
  },
  {
   "cell_type": "code",
   "execution_count": 21,
   "metadata": {},
   "outputs": [
    {
     "name": "stdout",
     "output_type": "stream",
     "text": [
      "[[-3.65307996, -0.27476342], [2.21775364, 0.61019398], [-3.65307997, -0.27476342], [2.49435654, 0.70831752], [1.37568714, -0.17475799], [1.27330206, 1.66203912]]\n"
     ]
    }
   ],
   "source": [
    "import numpy as np\n",
    "from scipy.optimize import fsolve, broyden2\n",
    "import math\n",
    "\n",
    "def equations(p):\n",
    "    x, y = p\n",
    "    # Запись системы уравнения вида x+y=2, x-y=0\n",
    "    return (x**2-y**2+3*x*y**3-2*x**2*y**2+2*x-3*y-5, 3*y**3-2*x**2+2*x**3*y-5*x**2*y**2+5)\n",
    "\n",
    "solv = []\n",
    "for x0 in np.arange (-10, 10, 2):\n",
    "    for y0 in np.arange (-10, 10, 2):\n",
    "        (x, y), info, ier, mesg =  fsolve(equations, (x0, y0), full_output=True)\n",
    "        if ier == 1 and not([round(x, 8), round(y, 8)] in solv):\n",
    "            solv.append([round(x, 8), round(y, 8)])\n",
    "            \n",
    "print (solv)\n",
    "# [[-3.65307996, -0.27476342], [2.21775364, 0.61019398], [-3.65307997, -0.27476342], [2.49435654, 0.70831752], [1.37568714, -0.17475799], [1.27330206, 1.66203912]]"
   ]
  },
  {
   "cell_type": "code",
   "execution_count": null,
   "metadata": {},
   "outputs": [],
   "source": []
  }
 ],
 "metadata": {
  "kernelspec": {
   "display_name": "Python 3",
   "language": "python",
   "name": "python3"
  },
  "language_info": {
   "codemirror_mode": {
    "name": "ipython",
    "version": 3
   },
   "file_extension": ".py",
   "mimetype": "text/x-python",
   "name": "python",
   "nbconvert_exporter": "python",
   "pygments_lexer": "ipython3",
   "version": "3.8.5"
  }
 },
 "nbformat": 4,
 "nbformat_minor": 4
}
